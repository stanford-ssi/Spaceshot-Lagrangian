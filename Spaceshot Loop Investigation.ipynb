{
 "cells": [
  {
   "cell_type": "markdown",
   "metadata": {},
   "source": [
    "# Spaceshot Loop Investigation\n",
    "\n",
    "This document investigates the Spaceshot Loop using Lagrangian dynamics. We hope to recreate the Spaceshot Loop without accounting for aerodynamic terms to avoid the headaches that would follow from that. Simply put, this is our lazy first shot because air is hard. For a no-prior-experience introduction to the Spaceshot Loop and how we model it here, please see Chandler's [_Spaceshot Loop Dynamics_ guide](https://drive.google.com/file/d/1J3nmpmz2pRV-1YVPBqL_L5fdTEglLyGC/view?usp=sharing). First, let's import everything we need:"
   ]
  },
  {
   "cell_type": "code",
   "execution_count": 3,
   "metadata": {},
   "outputs": [],
   "source": [
    "from sympy import *\n",
    "from sympy.physics.mechanics import *"
   ]
  },
  {
   "cell_type": "markdown",
   "metadata": {},
   "source": [
    "Now, recall the Spaceshot Lagrangian (that has a nice ring to it!):\n",
    "\n",
    "$$L = \\frac{1}{2}m(\\dot{x}^2 + \\dot{y}^2 + \\dot{z}^2) + \\frac{1}{2} I_1 (\\dot{\\phi} \\sin \\theta + \\dot{\\theta}) + \\frac{1}{2} I_3 (\\dot{\\phi} \\cos \\theta + \\dot{\\psi})^2$$\n",
    "\n",
    "We want to represent this in code.\n",
    "\n",
    "For information on Sympy, see the Introduction section at [this link](https://docs.sympy.org/latest/tutorial/index.html). For using SymPy for Lagrangian mechanics, see [here](https://docs.sympy.org/latest/modules/physics/mechanics/lagrange.html).\n",
    "\n",
    "Here we go:"
   ]
  },
  {
   "cell_type": "code",
   "execution_count": 37,
   "metadata": {},
   "outputs": [],
   "source": [
    "m, g, t = symbols('m, g, t')\n",
    "I1, I3, T = symbols('I1, I3, T')\n",
    "x, y, z = dynamicsymbols('x, y, z')\n",
    "phi, theta, psi = dynamicsymbols('phi, theta, psi')\n",
    "xdot, ydot, zdot = dynamicsymbols('x, y, z', level=1)\n",
    "phidot, thetadot, psidot = dynamicsymbols('phi, theta, psi', level=1)\n",
    "\n",
    "L = (m/2 * (xdot ** 2 + ydot ** 2 + zdot ** 2)\n",
    "     + I1/2 * (phidot * sin(theta) + thetadot)\n",
    "     + I3/2 * (phidot * cos(theta) + psidot)**2)"
   ]
  },
  {
   "cell_type": "markdown",
   "metadata": {},
   "source": [
    "That wasn't bad. Now let's get our Euler-Lagrange equations. Note that the expression below only gives the left hand sides of our Euler-Lagrange equations. Usually the right hand side is all zeros, unless we have external forces acting on our rocket--and we do, so we'll add those forces in in a minute.\n",
    "\n",
    "Also, rather than using the builtin `LagrangesMethod` function, we just take the derivatives by hand. This way, you can see what's going on under the hood (this is just Lagrange's equation from the notes) and I get to avoid all the hairy stuff involved in that SymPy function. We're going to pretend it's a win-win.\n",
    "\n",
    "The list below, called `equations`, has the left-hand sides of all the equations we want to solve. Rather than having the right hand side be the force our rocket experiences (like we claimed it would be above), we subtract over those forces we were going to put on the right-hand side, and make all the right-hand sides zero.\n",
    "\n",
    "This is just going from\n",
    "$$\\text{some garbage} = \\text{force}$$\n",
    "to\n",
    "$$\\text{some garbage} - \\text{force} = 0.$$\n",
    "Simple enough!\n",
    "\n",
    "Also, our first of two forces are gravity (recall $\\hat{z}$ is just the unit vector in the $z$ direction):\n",
    "$${F} = -mg \\hat{z}.$$\n",
    "The other is thrust:\n",
    "$$\\vec{T} = T \\sin \\phi \\sin \\theta \\hat{x} + T \\cos \\phi \\sin \\theta \\hat{y} + T \\cos \\theta \\hat{z}$$\n",
    "where $T$ is the magnitude of thrust.\n",
    "\n",
    "Don't worry about the sines and cosines here: they're just here to rotate the thrust from straight up and down to lining up with the rocket (I probably couldn't rederive them if you gave me a piece of paper and a week, but to be fair I'm not great with geometry in the first place and generally somewhat lazy).\n",
    "\n"
   ]
  },
  {
   "cell_type": "code",
   "execution_count": 82,
   "metadata": {},
   "outputs": [],
   "source": [
    "thrust_force_x = T * sin(phi) * sin(theta)\n",
    "thrust_force_y = T * cos(phi) * sin(theta)\n",
    "thrust_force_z = T * cos(theta)\n",
    "gravity_force_z = -g * z\n",
    "\n",
    "equations = [L.diff(xdot).diff(t) - L.diff(x) - thrust_force_x,\n",
    "             L.diff(ydot).diff(t) - L.diff(y) - thrust_force_y,\n",
    "             L.diff(zdot).diff(t) - L.diff(z) - thrust_force_z - gravity_force_z,\n",
    "             L.diff(phidot).diff(t) - L.diff(phi),\n",
    "             L.diff(thetadot).diff(t) - L.diff(theta),\n",
    "             L.diff(psidot).diff(t) - L.diff(psi)]"
   ]
  },
  {
   "cell_type": "markdown",
   "metadata": {},
   "source": [
    "Ah, I forgot to mention: most numerical differential equation solvers in Python like first-order equations (i.e. highest derivative is first order. But all of our equations are second order! For instance, our equation for $\\phi$ gives"
   ]
  },
  {
   "cell_type": "code",
   "execution_count": 76,
   "metadata": {},
   "outputs": [
    {
     "data": {
      "text/latex": [
       "$\\displaystyle \\frac{I_{1} \\cos{\\left(\\theta{\\left(t \\right)} \\right)} \\frac{d}{d t} \\theta{\\left(t \\right)}}{2} - I_{3} \\left(\\cos{\\left(\\theta{\\left(t \\right)} \\right)} \\frac{d}{d t} \\phi{\\left(t \\right)} + \\frac{d}{d t} \\psi{\\left(t \\right)}\\right) \\sin{\\left(\\theta{\\left(t \\right)} \\right)} \\frac{d}{d t} \\theta{\\left(t \\right)} + I_{3} \\left(- \\sin{\\left(\\theta{\\left(t \\right)} \\right)} \\frac{d}{d t} \\phi{\\left(t \\right)} \\frac{d}{d t} \\theta{\\left(t \\right)} + \\cos{\\left(\\theta{\\left(t \\right)} \\right)} \\frac{d^{2}}{d t^{2}} \\phi{\\left(t \\right)} + \\frac{d^{2}}{d t^{2}} \\psi{\\left(t \\right)}\\right) \\cos{\\left(\\theta{\\left(t \\right)} \\right)}$"
      ],
      "text/plain": [
       "I1*cos(theta(t))*Derivative(theta(t), t)/2 - I3*(cos(theta(t))*Derivative(phi(t), t) + Derivative(psi(t), t))*sin(theta(t))*Derivative(theta(t), t) + I3*(-sin(theta(t))*Derivative(phi(t), t)*Derivative(theta(t), t) + cos(theta(t))*Derivative(phi(t), (t, 2)) + Derivative(psi(t), (t, 2)))*cos(theta(t))"
      ]
     },
     "execution_count": 76,
     "metadata": {},
     "output_type": "execute_result"
    }
   ],
   "source": [
    "equations[3]"
   ]
  },
  {
   "cell_type": "markdown",
   "metadata": {},
   "source": [
    "Those 2s in those second derivatives have got to go! So, we perform the usual dumb trick: introduce a new variable for each existing one that we set equal to the existing one's derivative. For shorthand, we use the notation `a'` to represent the derivative of a variable `a'`. Cool. Cool cool cool.\n",
    "\n",
    "So for `x`, we introduce `a` (a completely new variable, unassociated with `x`!) and replace the derivatives of `x` with `a`. Then, so it actually becomes that derivative, we set `a` equal to `x'` in a new equation. As an example, `3x'' + 5 = 0` would become `3a' + 5 = 0` and `x' = a`. One equation now becomes two smaller-order ones, together with the same solutions as the original equation. \n",
    "\n",
    "I would name these better (like maybe suggestively calling `a` something like `x_diff` or something) but as soon as we tried to pretty-print that all the subscripts it would make it a mess (I may or may not have tried that already)."
   ]
  },
  {
   "cell_type": "code",
   "execution_count": 84,
   "metadata": {},
   "outputs": [
    {
     "data": {
      "text/plain": [
       "[-T*sin(phi(t))*sin(theta(t)) + m*Derivative(a(t), t),\n",
       " -T*sin(theta(t))*cos(phi(t)) + m*Derivative(b(t), t),\n",
       " -T*cos(theta(t)) + g*z(t) + m*Derivative(c(t), t),\n",
       " I1*e(t)*cos(theta(t))/2 - I3*(d(t)*cos(theta(t)) + f(t))*e(t)*sin(theta(t)) + I3*(-d(t)*e(t)*sin(theta(t)) + cos(theta(t))*Derivative(d(t), t) + Derivative(f(t), t))*cos(theta(t)),\n",
       " -I1*d(t)*cos(theta(t))/2 + I3*(d(t)*cos(theta(t)) + f(t))*d(t)*sin(theta(t)),\n",
       " I3*(-2*d(t)*e(t)*sin(theta(t)) + 2*cos(theta(t))*Derivative(d(t), t) + 2*Derivative(f(t), t))/2,\n",
       " -a(t) + Derivative(x(t), t),\n",
       " -b(t) + Derivative(y(t), t),\n",
       " -c(t) + Derivative(z(t), t),\n",
       " -d(t) + Derivative(phi(t), t),\n",
       " -e(t) + Derivative(theta(t), t),\n",
       " -f(t) + Derivative(psi(t), t)]"
      ]
     },
     "execution_count": 84,
     "metadata": {},
     "output_type": "execute_result"
    }
   ],
   "source": [
    "a, b, c, d, e, f = dynamicsymbols('a, b, c, d, e, f')\n",
    "diffs = {x: a, y: b, z: c, phi: d, theta: e, psi: f}\n",
    "\n",
    "new_equations = [equation for equation in equations]\n",
    "equation_count = len(equations)\n",
    "for original, diff in diffs.items():\n",
    "    for i in range(equation_count):\n",
    "        new_equations[i] = new_equations[i].subs(original.diff(t), diff)\n",
    "    new_equations.append(original.diff(t) - diff)"
   ]
  },
  {
   "cell_type": "code",
   "execution_count": null,
   "metadata": {},
   "outputs": [],
   "source": []
  }
 ],
 "metadata": {
  "kernelspec": {
   "display_name": "Python 3",
   "language": "python",
   "name": "python3"
  },
  "language_info": {
   "codemirror_mode": {
    "name": "ipython",
    "version": 3
   },
   "file_extension": ".py",
   "mimetype": "text/x-python",
   "name": "python",
   "nbconvert_exporter": "python",
   "pygments_lexer": "ipython3",
   "version": "3.7.7"
  }
 },
 "nbformat": 4,
 "nbformat_minor": 2
}
