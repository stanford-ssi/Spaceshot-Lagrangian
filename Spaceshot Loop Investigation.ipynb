{
 "cells": [
  {
   "cell_type": "markdown",
   "metadata": {},
   "source": [
    "# Spaceshot Loop Investigation\n",
    "\n",
    "This document investigates the Spaceshot Loop using Lagrangian dynamics. We hope to recreate the Spaceshot Loop without accounting for aerodynamic terms to avoid the headaches that would follow from that. Simply put, this is our lazy first shot because air is hard. For a no-prior-experience introduction to the Spaceshot Loop and how we model it here, please see Chandler's [_Spaceshot Loop Dynamics_ guide](https://drive.google.com/file/d/1J3nmpmz2pRV-1YVPBqL_L5fdTEglLyGC/view?usp=sharing). First, let's import everything we need:"
   ]
  },
  {
   "cell_type": "code",
   "execution_count": 6,
   "metadata": {},
   "outputs": [],
   "source": [
    "from sympy import *\n",
    "from sympy.physics.mechanics import *"
   ]
  },
  {
   "cell_type": "markdown",
   "metadata": {},
   "source": [
    "Now, recall the Spaceshot Lagrangian (that has a nice ring to it!):\n",
    "\n",
    "$$L = \\frac{1}{2}m(\\dot{x}^2 + \\dot{y}^2 + \\dot{z}^2) + \\frac{1}{2} I_1 (\\dot{\\phi} \\sin \\theta + \\dot{\\theta}) + \\frac{1}{2} I_3 (\\dot{\\phi} \\cos \\theta + \\dot{\\psi})^2$$\n",
    "\n",
    "We want to represent this in code.\n",
    "\n",
    "For information on Sympy, see the Introduction section at [this link](https://docs.sympy.org/latest/tutorial/index.html). For using SymPy for Lagrangian mechanics, see [here](https://docs.sympy.org/latest/modules/physics/mechanics/lagrange.html).\n",
    "\n",
    "Here we go:"
   ]
  },
  {
   "cell_type": "code",
   "execution_count": 15,
   "metadata": {},
   "outputs": [],
   "source": [
    "m = symbols('m', real=True)\n",
    "g = symbols('g', real=True)\n",
    "I1, I3 = symbols('I1, I3', real=True)\n",
    "x, y, z = dynamicsymbols('x, y, z')\n",
    "phi, theta, psi = dynamicsymbols('phi, theta, psi')\n",
    "xdot, ydot, zdot = dynamicsymbols('x, y, z', 1)\n",
    "phidot, thetadot, psidot = dynamicsymbols('phi, theta, psi', 1)\n",
    "\n",
    "L = (0.5 * m * (xdot ** 2 + ydot ** 2 + zdot ** 2)\n",
    "     + 0.5 * I1 * (phidot * sin(theta) + thetadot)\n",
    "     + 0.5 * I3 * (phidot * cos(theta) + psidot)**2)"
   ]
  },
  {
   "cell_type": "markdown",
   "metadata": {},
   "source": [
    "That wasn't bad. Now let's get our Euler-Lagrange equations:"
   ]
  },
  {
   "cell_type": "code",
   "execution_count": null,
   "metadata": {},
   "outputs": [],
   "source": []
  }
 ],
 "metadata": {
  "kernelspec": {
   "display_name": "Python 3",
   "language": "python",
   "name": "python3"
  },
  "language_info": {
   "codemirror_mode": {
    "name": "ipython",
    "version": 3
   },
   "file_extension": ".py",
   "mimetype": "text/x-python",
   "name": "python",
   "nbconvert_exporter": "python",
   "pygments_lexer": "ipython3",
   "version": "3.7.4"
  }
 },
 "nbformat": 4,
 "nbformat_minor": 2
}
