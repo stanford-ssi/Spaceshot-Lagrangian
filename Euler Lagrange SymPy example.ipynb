{
 "cells": [
  {
   "cell_type": "code",
   "execution_count": 1,
   "metadata": {},
   "outputs": [],
   "source": [
    "from sympy import *\n",
    "from sympy.physics.mechanics import *"
   ]
  },
  {
   "cell_type": "code",
   "execution_count": 11,
   "metadata": {},
   "outputs": [
    {
     "name": "stdout",
     "output_type": "stream",
     "text": [
      "              2      \n",
      "             d       \n",
      "g⋅m + 1.0⋅m⋅───(x(t))\n",
      "              2      \n",
      "            dt       \n"
     ]
    }
   ],
   "source": [
    "m = symbols('m', real = True)\n",
    "g = symbols('g', real = True)\n",
    "x = dynamicsymbols('x')\n",
    "xdot = dynamicsymbols('x', 1)\n",
    "\n",
    "KE = 0.5 * m * xdot ** 2\n",
    "PE = m * g * x\n",
    "\n",
    "L1 = KE - PE\n",
    "f = diff(diff(L1, xdot), 't') - diff(L1, x)\n",
    "pprint(f)"
   ]
  },
  {
   "cell_type": "code",
   "execution_count": null,
   "metadata": {},
   "outputs": [],
   "source": []
  },
  {
   "cell_type": "code",
   "execution_count": null,
   "metadata": {},
   "outputs": [],
   "source": []
  },
  {
   "cell_type": "code",
   "execution_count": null,
   "metadata": {},
   "outputs": [],
   "source": []
  }
 ],
 "metadata": {
  "kernelspec": {
   "display_name": "Python 3",
   "language": "python",
   "name": "python3"
  },
  "language_info": {
   "codemirror_mode": {
    "name": "ipython",
    "version": 3
   },
   "file_extension": ".py",
   "mimetype": "text/x-python",
   "name": "python",
   "nbconvert_exporter": "python",
   "pygments_lexer": "ipython3",
   "version": "3.7.3"
  }
 },
 "nbformat": 4,
 "nbformat_minor": 2
}
