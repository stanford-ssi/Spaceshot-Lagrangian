{
 "cells": [
  {
   "cell_type": "markdown",
   "metadata": {},
   "source": [
    "# Spaceshot Loop Investigation\n",
    "\n",
    "This document investigates the Spaceshot Loop using Lagrangian dynamics. We hope to recreate the Spaceshot Loop without accounting for aerodynamic terms to avoid the headaches that would follow from that. Simply put, this is our lazy first shot because air is hard. For a no-prior-experience introduction to the Spaceshot Loop and how we model it here, please see Chandler's [_Spaceshot Loop Dynamics_ guide](https://drive.google.com/file/d/1J3nmpmz2pRV-1YVPBqL_L5fdTEglLyGC/view?usp=sharing). First, let's import everything we need:"
   ]
  },
  {
   "cell_type": "code",
   "execution_count": 6,
   "metadata": {},
   "outputs": [],
   "source": [
    "from sympy import *\n",
    "from sympy.physics.mechanics import *"
   ]
  },
  {
   "cell_type": "markdown",
   "metadata": {},
   "source": [
    "Now, recall the Spaceshot Lagrangian (that has a nice ring to it!):\n",
    "\n",
    "$$L = \\frac{1}{2}m(\\dot{x}^2 + \\dot{y}^2 + \\dot{z}^2) + \\frac{1}{2} I_1 (\\dot{\\phi} \\sin \\theta + \\dot{\\theta}) + \\frac{1}{2} I_3 (\\dot{\\phi} \\cos \\theta + \\dot{\\psi})^2$$\n",
    "\n",
    "We want to represent this in code.\n",
    "\n",
    "For information on Sympy, see the Introduction section at [this link](https://docs.sympy.org/latest/tutorial/index.html). For using SymPy for Lagrangian mechanics, see [here](https://docs.sympy.org/latest/modules/physics/mechanics/lagrange.html).\n",
    "\n",
    "Here we go:"
   ]
  },
  {
   "cell_type": "code",
   "execution_count": 19,
   "metadata": {},
   "outputs": [],
   "source": [
    "m = symbols('m', real=True)\n",
    "g = symbols('g', real=True)\n",
    "I1, I3 = symbols('I1, I3', real=True)\n",
    "x, y, z = dynamicsymbols('x, y, z')\n",
    "phi, theta, psi = dynamicsymbols('phi, theta, psi')\n",
    "xdot, ydot, zdot = dynamicsymbols('x, y, z', 1)\n",
    "phidot, thetadot, psidot = dynamicsymbols('phi, theta, psi', 1)\n",
    "\n",
    "L = (m/2 * (xdot ** 2 + ydot ** 2 + zdot ** 2)\n",
    "     + I1/2 * (phidot * sin(theta) + thetadot)\n",
    "     + I3/2 * (phidot * cos(theta) + psidot)**2)"
   ]
  },
  {
   "cell_type": "markdown",
   "metadata": {},
   "source": [
    "That wasn't bad. Now let's get our Euler-Lagrange equations. Note that the expression below only gives the left hand sides of our Euler-Lagrange equations. Usually the right hand side is all zeros, unless we have external forces acting on our rocket--and we do, so we'll add those forces in in a minute."
   ]
  },
  {
   "cell_type": "code",
   "execution_count": 20,
   "metadata": {},
   "outputs": [
    {
     "data": {
      "text/latex": [
       "$\\displaystyle \\left[\\begin{matrix}m \\frac{d^{2}}{d t^{2}} x{\\left(t \\right)}\\\\m \\frac{d^{2}}{d t^{2}} y{\\left(t \\right)}\\\\m \\frac{d^{2}}{d t^{2}} z{\\left(t \\right)}\\\\\\frac{I_{1} \\cos{\\left(\\theta{\\left(t \\right)} \\right)} \\frac{d}{d t} \\theta{\\left(t \\right)}}{2} - I_{3} \\left(\\cos{\\left(\\theta{\\left(t \\right)} \\right)} \\frac{d}{d t} \\phi{\\left(t \\right)} + \\frac{d}{d t} \\psi{\\left(t \\right)}\\right) \\sin{\\left(\\theta{\\left(t \\right)} \\right)} \\frac{d}{d t} \\theta{\\left(t \\right)} + I_{3} \\left(- \\sin{\\left(\\theta{\\left(t \\right)} \\right)} \\frac{d}{d t} \\phi{\\left(t \\right)} \\frac{d}{d t} \\theta{\\left(t \\right)} + \\cos{\\left(\\theta{\\left(t \\right)} \\right)} \\frac{d^{2}}{d t^{2}} \\phi{\\left(t \\right)} + \\frac{d^{2}}{d t^{2}} \\psi{\\left(t \\right)}\\right) \\cos{\\left(\\theta{\\left(t \\right)} \\right)}\\\\- \\frac{I_{1} \\cos{\\left(\\theta{\\left(t \\right)} \\right)} \\frac{d}{d t} \\phi{\\left(t \\right)}}{2} + I_{3} \\left(\\cos{\\left(\\theta{\\left(t \\right)} \\right)} \\frac{d}{d t} \\phi{\\left(t \\right)} + \\frac{d}{d t} \\psi{\\left(t \\right)}\\right) \\sin{\\left(\\theta{\\left(t \\right)} \\right)} \\frac{d}{d t} \\phi{\\left(t \\right)}\\\\\\frac{I_{3} \\left(- 2 \\sin{\\left(\\theta{\\left(t \\right)} \\right)} \\frac{d}{d t} \\phi{\\left(t \\right)} \\frac{d}{d t} \\theta{\\left(t \\right)} + 2 \\cos{\\left(\\theta{\\left(t \\right)} \\right)} \\frac{d^{2}}{d t^{2}} \\phi{\\left(t \\right)} + 2 \\frac{d^{2}}{d t^{2}} \\psi{\\left(t \\right)}\\right)}{2}\\end{matrix}\\right]$"
      ],
      "text/plain": [
       "Matrix([\n",
       "[                                                                                                                                                                                                                                                                                   m*Derivative(x(t), (t, 2))],\n",
       "[                                                                                                                                                                                                                                                                                   m*Derivative(y(t), (t, 2))],\n",
       "[                                                                                                                                                                                                                                                                                   m*Derivative(z(t), (t, 2))],\n",
       "[I1*cos(theta(t))*Derivative(theta(t), t)/2 - I3*(cos(theta(t))*Derivative(phi(t), t) + Derivative(psi(t), t))*sin(theta(t))*Derivative(theta(t), t) + I3*(-sin(theta(t))*Derivative(phi(t), t)*Derivative(theta(t), t) + cos(theta(t))*Derivative(phi(t), (t, 2)) + Derivative(psi(t), (t, 2)))*cos(theta(t))],\n",
       "[                                                                                                                                                             -I1*cos(theta(t))*Derivative(phi(t), t)/2 + I3*(cos(theta(t))*Derivative(phi(t), t) + Derivative(psi(t), t))*sin(theta(t))*Derivative(phi(t), t)],\n",
       "[                                                                                                                                                            I3*(-2*sin(theta(t))*Derivative(phi(t), t)*Derivative(theta(t), t) + 2*cos(theta(t))*Derivative(phi(t), (t, 2)) + 2*Derivative(psi(t), (t, 2)))/2]])"
      ]
     },
     "execution_count": 20,
     "metadata": {},
     "output_type": "execute_result"
    }
   ],
   "source": [
    "LM = LagrangesMethod(L, [x, y, z, phi, theta, psi])\n",
    "LM.form_lagranges_equations()"
   ]
  },
  {
   "cell_type": "markdown",
   "metadata": {},
   "source": [
    "Aren't you glad you didn't calculate that by hand?"
   ]
  },
  {
   "cell_type": "code",
   "execution_count": null,
   "metadata": {},
   "outputs": [],
   "source": []
  }
 ],
 "metadata": {
  "kernelspec": {
   "display_name": "Python 3",
   "language": "python",
   "name": "python3"
  },
  "language_info": {
   "codemirror_mode": {
    "name": "ipython",
    "version": 3
   },
   "file_extension": ".py",
   "mimetype": "text/x-python",
   "name": "python",
   "nbconvert_exporter": "python",
   "pygments_lexer": "ipython3",
   "version": "3.7.4"
  }
 },
 "nbformat": 4,
 "nbformat_minor": 2
}
